{
 "cells": [
  {
   "cell_type": "code",
   "execution_count": 5,
   "metadata": {},
   "outputs": [],
   "source": [
    "import pandas as pd\n",
    "\n",
    "import numpy as np"
   ]
  },
  {
   "cell_type": "code",
   "execution_count": 2,
   "metadata": {},
   "outputs": [],
   "source": [
    "\n",
    "# define the path of the CSV file\n",
    "csv_path = \"test.csv\"\n",
    "\n",
    "# define the field names for the CSV file\n",
    "field_names = [\"column1\", \"column2\", \"column3\"]\n",
    "\n",
    "# function to append a row to the CSV file\n",
    "def append_to_csv(row_dict, header=False):\n",
    "    row_df = pd.DataFrame([row_dict], columns=list(row_dict.keys()))\n",
    "    row_df.to_csv(csv_path, mode=\"a\", header=header, index=False)\n",
    "\n"
   ]
  },
  {
   "cell_type": "code",
   "execution_count": 4,
   "metadata": {},
   "outputs": [],
   "source": [
    "# example usage\n",
    "row1 = {\"column1\": \"value1\", \"column2\": 42, \"column3\": 3.14}\n",
    "append_to_csv(row1, header=False)"
   ]
  },
  {
   "cell_type": "code",
   "execution_count": 10,
   "metadata": {},
   "outputs": [],
   "source": [
    "a = (1,2,3)"
   ]
  },
  {
   "cell_type": "code",
   "execution_count": 30,
   "metadata": {},
   "outputs": [],
   "source": [
    "\n",
    "def in_range(time, ranges):\n",
    "    if type(ranges[0]) == list:\n",
    "        return np.any([in_range(time, range) for range in ranges])\n",
    "    else:\n",
    "        return time >= ranges[0] and time < ranges[1]"
   ]
  },
  {
   "cell_type": "code",
   "execution_count": 31,
   "metadata": {},
   "outputs": [],
   "source": [
    "time_of_day = {0:{\"label\": \"morning\",\"range\": [5,12]},1:{\"label\": \"afternoon\",\"range\": [12, 17]},2:{\"label\": \"night\",\"range\": [[0,5], [17,24]]}}\n"
   ]
  },
  {
   "cell_type": "code",
   "execution_count": 35,
   "metadata": {},
   "outputs": [
    {
     "data": {
      "text/plain": [
       "(array([2]),)"
      ]
     },
     "execution_count": 35,
     "metadata": {},
     "output_type": "execute_result"
    }
   ],
   "source": [
    "np.where([in_range(0, v[\"range\"]) for k,v in time_of_day.items()])[0]"
   ]
  },
  {
   "cell_type": "code",
   "execution_count": null,
   "metadata": {},
   "outputs": [],
   "source": []
  }
 ],
 "metadata": {
  "kernelspec": {
   "display_name": "xplane-env",
   "language": "python",
   "name": "python3"
  },
  "language_info": {
   "codemirror_mode": {
    "name": "ipython",
    "version": 3
   },
   "file_extension": ".py",
   "mimetype": "text/x-python",
   "name": "python",
   "nbconvert_exporter": "python",
   "pygments_lexer": "ipython3",
   "version": "3.10.6"
  },
  "orig_nbformat": 4,
  "vscode": {
   "interpreter": {
    "hash": "aecfbe8bebc72e58e927304bf76970d0d3cd036b3fb0dea9d6fb3391550f59df"
   }
  }
 },
 "nbformat": 4,
 "nbformat_minor": 2
}
