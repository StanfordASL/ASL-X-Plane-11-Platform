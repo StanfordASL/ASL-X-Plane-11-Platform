{
 "cells": [
  {
   "cell_type": "code",
   "execution_count": 1,
   "metadata": {},
   "outputs": [],
   "source": [
    "%load_ext autoreload"
   ]
  },
  {
   "cell_type": "code",
   "execution_count": 2,
   "metadata": {},
   "outputs": [],
   "source": [
    "import numpy as np\n",
    "import matplotlib.pyplot as plt\n",
    "import torch\n",
    "import pandas as pd\n",
    "import matplotlib\n",
    "import wandb\n",
    "import torch.nn as nn\n",
    "import torchvision.transforms as tform\n",
    "import torch.optim as optim\n",
    "import aslxplane.perception.models as xplane_models\n",
    "from torch.utils.data import Dataset, DataLoader\n",
    "from tqdm import trange, tqdm\n",
    "from PIL import Image\n",
    "# matplotlib.rcParams['text.usetex'] = True\n",
    "plt.rc('font', size=20)\n",
    "plt.rc('font', family='Times New Roman')\n",
    "plt.rcParams['legend.fontsize'] = 'large'\n",
    "plt.rcParams['axes.labelsize'] = 'large'\n",
    "%autoreload 2"
   ]
  },
  {
   "cell_type": "code",
   "execution_count": 3,
   "metadata": {},
   "outputs": [
    {
     "name": "stdout",
     "output_type": "stream",
     "text": [
      "cuda:0\n"
     ]
    }
   ],
   "source": [
    "data_dir = \"../../Xplane-data-dir/xplane-asl-test/sinusoids-03-08-23/\"\n",
    "label_file = \"labels.csv\"\n",
    "device = torch.device(\"cuda:0\" if torch.cuda.is_available() else \"cpu\")\n",
    "print(device)"
   ]
  },
  {
   "attachments": {},
   "cell_type": "markdown",
   "metadata": {},
   "source": [
    "## Load label file and plot some dataset statistics"
   ]
  },
  {
   "cell_type": "code",
   "execution_count": 4,
   "metadata": {},
   "outputs": [
    {
     "data": {
      "text/html": [
       "<div>\n",
       "<style scoped>\n",
       "    .dataframe tbody tr th:only-of-type {\n",
       "        vertical-align: middle;\n",
       "    }\n",
       "\n",
       "    .dataframe tbody tr th {\n",
       "        vertical-align: top;\n",
       "    }\n",
       "\n",
       "    .dataframe thead th {\n",
       "        text-align: right;\n",
       "    }\n",
       "</style>\n",
       "<table border=\"1\" class=\"dataframe\">\n",
       "  <thead>\n",
       "    <tr style=\"text-align: right;\">\n",
       "      <th></th>\n",
       "      <th>image_filename</th>\n",
       "      <th>absolute_time_GMT_seconds</th>\n",
       "      <th>relative_time_seconds</th>\n",
       "      <th>distance_to_centerline_meters</th>\n",
       "      <th>distance_to_centerline_NORMALIZED</th>\n",
       "      <th>downtrack_position_meters</th>\n",
       "      <th>downtrack_position_NORMALIZED</th>\n",
       "      <th>heading_error_degrees</th>\n",
       "      <th>heading_error_NORMALIZED</th>\n",
       "      <th>speed_meters_per_second</th>\n",
       "      <th>period_of_day</th>\n",
       "      <th>cloud_type</th>\n",
       "      <th>image_corruption</th>\n",
       "    </tr>\n",
       "  </thead>\n",
       "  <tbody>\n",
       "    <tr>\n",
       "      <th>0</th>\n",
       "      <td>MWH_Runway04_morning_clear_0_0.png</td>\n",
       "      <td>68081.203125</td>\n",
       "      <td>0.000000</td>\n",
       "      <td>0.007486</td>\n",
       "      <td>0.000749</td>\n",
       "      <td>15.338386</td>\n",
       "      <td>0.514366</td>\n",
       "      <td>0.002177</td>\n",
       "      <td>0.000073</td>\n",
       "      <td>5.015036</td>\n",
       "      <td>0</td>\n",
       "      <td>0</td>\n",
       "      <td>0</td>\n",
       "    </tr>\n",
       "    <tr>\n",
       "      <th>1</th>\n",
       "      <td>MWH_Runway04_morning_clear_0_1.png</td>\n",
       "      <td>68081.562500</td>\n",
       "      <td>0.359375</td>\n",
       "      <td>0.012615</td>\n",
       "      <td>0.001261</td>\n",
       "      <td>17.106638</td>\n",
       "      <td>0.573663</td>\n",
       "      <td>-0.378392</td>\n",
       "      <td>-0.012613</td>\n",
       "      <td>4.997900</td>\n",
       "      <td>0</td>\n",
       "      <td>0</td>\n",
       "      <td>0</td>\n",
       "    </tr>\n",
       "    <tr>\n",
       "      <th>2</th>\n",
       "      <td>MWH_Runway04_morning_clear_0_2.png</td>\n",
       "      <td>68081.906250</td>\n",
       "      <td>0.703125</td>\n",
       "      <td>-0.010726</td>\n",
       "      <td>-0.001073</td>\n",
       "      <td>18.914559</td>\n",
       "      <td>0.634291</td>\n",
       "      <td>-1.499875</td>\n",
       "      <td>-0.049996</td>\n",
       "      <td>4.995921</td>\n",
       "      <td>0</td>\n",
       "      <td>0</td>\n",
       "      <td>0</td>\n",
       "    </tr>\n",
       "    <tr>\n",
       "      <th>3</th>\n",
       "      <td>MWH_Runway04_morning_clear_0_3.png</td>\n",
       "      <td>68082.242188</td>\n",
       "      <td>1.039062</td>\n",
       "      <td>-0.063710</td>\n",
       "      <td>-0.006371</td>\n",
       "      <td>20.576195</td>\n",
       "      <td>0.690013</td>\n",
       "      <td>-3.087132</td>\n",
       "      <td>-0.102904</td>\n",
       "      <td>4.997653</td>\n",
       "      <td>0</td>\n",
       "      <td>0</td>\n",
       "      <td>0</td>\n",
       "    </tr>\n",
       "    <tr>\n",
       "      <th>4</th>\n",
       "      <td>MWH_Runway04_morning_clear_0_4.png</td>\n",
       "      <td>68082.585938</td>\n",
       "      <td>1.382812</td>\n",
       "      <td>-0.166725</td>\n",
       "      <td>-0.016673</td>\n",
       "      <td>22.274047</td>\n",
       "      <td>0.746950</td>\n",
       "      <td>-5.061215</td>\n",
       "      <td>-0.168707</td>\n",
       "      <td>5.002153</td>\n",
       "      <td>0</td>\n",
       "      <td>0</td>\n",
       "      <td>0</td>\n",
       "    </tr>\n",
       "  </tbody>\n",
       "</table>\n",
       "</div>"
      ],
      "text/plain": [
       "                       image_filename  absolute_time_GMT_seconds  \\\n",
       "0  MWH_Runway04_morning_clear_0_0.png               68081.203125   \n",
       "1  MWH_Runway04_morning_clear_0_1.png               68081.562500   \n",
       "2  MWH_Runway04_morning_clear_0_2.png               68081.906250   \n",
       "3  MWH_Runway04_morning_clear_0_3.png               68082.242188   \n",
       "4  MWH_Runway04_morning_clear_0_4.png               68082.585938   \n",
       "\n",
       "   relative_time_seconds  distance_to_centerline_meters  \\\n",
       "0               0.000000                       0.007486   \n",
       "1               0.359375                       0.012615   \n",
       "2               0.703125                      -0.010726   \n",
       "3               1.039062                      -0.063710   \n",
       "4               1.382812                      -0.166725   \n",
       "\n",
       "   distance_to_centerline_NORMALIZED  downtrack_position_meters  \\\n",
       "0                           0.000749                  15.338386   \n",
       "1                           0.001261                  17.106638   \n",
       "2                          -0.001073                  18.914559   \n",
       "3                          -0.006371                  20.576195   \n",
       "4                          -0.016673                  22.274047   \n",
       "\n",
       "   downtrack_position_NORMALIZED  heading_error_degrees  \\\n",
       "0                       0.514366               0.002177   \n",
       "1                       0.573663              -0.378392   \n",
       "2                       0.634291              -1.499875   \n",
       "3                       0.690013              -3.087132   \n",
       "4                       0.746950              -5.061215   \n",
       "\n",
       "   heading_error_NORMALIZED  speed_meters_per_second  period_of_day  \\\n",
       "0                  0.000073                 5.015036              0   \n",
       "1                 -0.012613                 4.997900              0   \n",
       "2                 -0.049996                 4.995921              0   \n",
       "3                 -0.102904                 4.997653              0   \n",
       "4                 -0.168707                 5.002153              0   \n",
       "\n",
       "   cloud_type  image_corruption  \n",
       "0           0                 0  \n",
       "1           0                 0  \n",
       "2           0                 0  \n",
       "3           0                 0  \n",
       "4           0                 0  "
      ]
     },
     "execution_count": 4,
     "metadata": {},
     "output_type": "execute_result"
    }
   ],
   "source": [
    "df = pd.read_csv(data_dir + label_file)\n",
    "df[:5]"
   ]
  },
  {
   "attachments": {},
   "cell_type": "markdown",
   "metadata": {},
   "source": [
    "# Set Model Architecture"
   ]
  },
  {
   "cell_type": "code",
   "execution_count": 5,
   "metadata": {},
   "outputs": [],
   "source": [
    "model_params = {\n",
    "    \"type\": \"auto-model\",\n",
    "    \"image_size\": (16,32),\n",
    "    \"hidden_layers\": (128, 64, 16)\n",
    "}"
   ]
  },
  {
   "attachments": {},
   "cell_type": "markdown",
   "metadata": {},
   "source": [
    "# Construct Dataset and Dataloader"
   ]
  },
  {
   "cell_type": "code",
   "execution_count": 58,
   "metadata": {},
   "outputs": [],
   "source": [
    "class TaxiNet(Dataset):\n",
    "\n",
    "    def __init__(self, df, data_dir, label_file, image_size, max_samples=None):\n",
    "        self.data_dir = data_dir\n",
    "        self.label_file = label_file\n",
    "        self.df = df\n",
    "        self.max_samples = max_samples\n",
    "        self.morning_images = df.index[df[\"image_filename\"].str.contains(\"morning\")].to_list()\n",
    "        self.resize_and_grayscale = tform.Compose([\n",
    "            tform.Resize(size=image_size),\n",
    "            tform.Grayscale(),\n",
    "            tform.ToTensor()\n",
    "        ])\n",
    "        \n",
    "    def __len__(self):\n",
    "        return len(self.morning_images) if self.max_samples is None else self.max_samples\n",
    "\n",
    "    def __getitem__(self, idx):\n",
    "        data_idx = self.morning_images[idx]\n",
    "        img_file = df.loc[data_idx, \"image_filename\"]\n",
    "        y_cte = df.loc[data_idx, \"distance_to_centerline_NORMALIZED\"]\n",
    "        y_he = df.loc[data_idx, \"heading_error_NORMALIZED\"]\n",
    "        img = Image.open(data_dir + img_file)\n",
    "        return torch.tensor([y_cte, y_he]), self.resize_and_grayscale(img)\n",
    "    "
   ]
  },
  {
   "cell_type": "code",
   "execution_count": 59,
   "metadata": {},
   "outputs": [],
   "source": [
    "dataset = TaxiNet(df, data_dir, label_file, model_params[\"image_size\"])"
   ]
  },
  {
   "cell_type": "code",
   "execution_count": 60,
   "metadata": {},
   "outputs": [
    {
     "name": "stdout",
     "output_type": "stream",
     "text": [
      "dataset contains 85596 points\n"
     ]
    },
    {
     "data": {
      "image/png": "[encoded data removed]",
      "text/plain": [
       "<Figure size 640x480 with 1 Axes>"
      ]
     },
     "metadata": {},
     "output_type": "display_data"
    }
   ],
   "source": [
    "y, img = dataset[0]\n",
    "plt.imshow(tform.ToPILImage()(img), cmap=\"gray\")\n",
    "plt.title(f\"distance from centerline = {y[0]}\")\n",
    "print(\"dataset contains %d points\" % len(dataset))"
   ]
  },
  {
   "attachments": {},
   "cell_type": "markdown",
   "metadata": {},
   "source": [
    "# Setup Training"
   ]
  },
  {
   "cell_type": "code",
   "execution_count": 89,
   "metadata": {},
   "outputs": [],
   "source": [
    "train_split = int(.8 * len(dataset))\n",
    "val_split = len(dataset) - train_split\n",
    "train_data, val_data = torch.utils.data.random_split(dataset, [train_split, val_split])"
   ]
  },
  {
   "cell_type": "code",
   "execution_count": 90,
   "metadata": {},
   "outputs": [],
   "source": [
    "train_dataloader = DataLoader(train_data, batch_size=32, shuffle=True)\n",
    "val_dataloader = DataLoader(val_data, batch_size=32)"
   ]
  },
  {
   "cell_type": "code",
   "execution_count": 91,
   "metadata": {},
   "outputs": [],
   "source": [
    "model = xplane_models.AutoEncoder(model_params).to(device)\n"
   ]
  },
  {
   "cell_type": "code",
   "execution_count": 92,
   "metadata": {},
   "outputs": [],
   "source": [
    "learning_params = {\n",
    "    \"num_epochs\": 10, \n",
    "    \"num_train_steps\":1000, \n",
    "    \"learning_rate\":1e-1, \n",
    "    \"compute_val\":500\n",
    "}\n",
    "\n",
    "optimizer = optim.Adam(\n",
    "    model.parameters(),\n",
    "    lr=learning_params[\"learning_rate\"],\n",
    "    # weight_decay=1e-3\n",
    ")\n",
    "\n",
    "scheduler = optim.lr_scheduler.LambdaLR(\n",
    "    optimizer, \n",
    "    lambda i: max(learning_params[\"learning_rate\"] * (.1 ** (int(np.floor(i / 3)))), 1e-4)\n",
    ")"
   ]
  },
  {
   "cell_type": "code",
   "execution_count": 93,
   "metadata": {},
   "outputs": [
    {
     "data": {
      "text/html": [
       "wandb version 0.14.0 is available!  To upgrade, please run:\n",
       " $ pip install wandb --upgrade"
      ],
      "text/plain": [
       "<IPython.core.display.HTML object>"
      ]
     },
     "metadata": {},
     "output_type": "display_data"
    },
    {
     "data": {
      "text/html": [
       "Tracking run with wandb version 0.13.10"
      ],
      "text/plain": [
       "<IPython.core.display.HTML object>"
      ]
     },
     "metadata": {},
     "output_type": "display_data"
    },
    {
     "data": {
      "text/html": [
       "Run data is saved locally in <code>/home/rohan/Projects/XPlane-ASL/notebooks/wandb/run-20230321_135110-o7rotfbj</code>"
      ],
      "text/plain": [
       "<IPython.core.display.HTML object>"
      ]
     },
     "metadata": {},
     "output_type": "display_data"
    },
    {
     "data": {
      "text/html": [
       "Syncing run <strong><a href='https://wandb.ai/asl-closed-loop-monitor/asl-closed-loop-monitor/runs/o7rotfbj' target=\"_blank\">kind-deluge-82</a></strong> to <a href='https://wandb.ai/asl-closed-loop-monitor/asl-closed-loop-monitor' target=\"_blank\">Weights & Biases</a> (<a href='https://wandb.me/run' target=\"_blank\">docs</a>)<br/>"
      ],
      "text/plain": [
       "<IPython.core.display.HTML object>"
      ]
     },
     "metadata": {},
     "output_type": "display_data"
    },
    {
     "data": {
      "text/html": [
       " View project at <a href='https://wandb.ai/asl-closed-loop-monitor/asl-closed-loop-monitor' target=\"_blank\">https://wandb.ai/asl-closed-loop-monitor/asl-closed-loop-monitor</a>"
      ],
      "text/plain": [
       "<IPython.core.display.HTML object>"
      ]
     },
     "metadata": {},
     "output_type": "display_data"
    },
    {
     "data": {
      "text/html": [
       " View run at <a href='https://wandb.ai/asl-closed-loop-monitor/asl-closed-loop-monitor/runs/o7rotfbj' target=\"_blank\">https://wandb.ai/asl-closed-loop-monitor/asl-closed-loop-monitor/runs/o7rotfbj</a>"
      ],
      "text/plain": [
       "<IPython.core.display.HTML object>"
      ]
     },
     "metadata": {},
     "output_type": "display_data"
    },
    {
     "data": {
      "text/html": [
       "<button onClick=\"this.nextSibling.style.display='block';this.style.display='none';\">Display W&B run</button><iframe src='https://wandb.ai/asl-closed-loop-monitor/asl-closed-loop-monitor/runs/o7rotfbj?jupyter=true' style='border:none;width:100%;height:420px;display:none;'></iframe>"
      ],
      "text/plain": [
       "<wandb.sdk.wandb_run.Run at 0x7f11a66f9ab0>"
      ]
     },
     "execution_count": 93,
     "metadata": {},
     "output_type": "execute_result"
    }
   ],
   "source": [
    "# start a new wandb run to track this script\n",
    "wandb.init(\n",
    "    # set the wandb project where this run will be logged\n",
    "    project=\"asl-closed-loop-monitor\",\n",
    "    \n",
    "    # track hyperparameters and run metadata\n",
    "    config={\n",
    "    \"architecture\": \"Automodel\",\n",
    "    \"dataset\": data_dir.split(\"/\")[-2],\n",
    "    \"output\": \"ReconStruction\"\n",
    "    }\n",
    ")"
   ]
  },
  {
   "cell_type": "code",
   "execution_count": 94,
   "metadata": {},
   "outputs": [],
   "source": [
    "def get_loss(model, X, y, loss_func):\n",
    "    X = X.to(device)\n",
    "    pred = model(X).unsqueeze(1)\n",
    "    loss = loss_func(pred, X)\n",
    "    return loss\n",
    "\n",
    "def train(model, optimizer, train_data, val_data, scheduler, learning_params=None):\n",
    "    train_losses = []\n",
    "    val_losses = [-1]\n",
    "    epochs = trange(learning_params[\"num_epochs\"], desc='Current Loss = ', leave=True)\n",
    "    loss_func = nn.MSELoss()\n",
    "    for i in epochs:\n",
    "        for j, (y, X) in enumerate(train_data):\n",
    "            if j > learning_params[\"num_train_steps\"]:\n",
    "                break\n",
    "            \n",
    "            optimizer.zero_grad()\n",
    "        \n",
    "            loss = get_loss(model, X, y, loss_func)\n",
    "            loss.backward()\n",
    "            optimizer.step()\n",
    "            train_losses.append(loss.item())\n",
    "            epochs.set_description(\"Current batch Loss = %.2f, Current Val Loss = %.2f\" % (loss.item(), val_losses[-1]))\n",
    "            wandb.log({\"loss\":loss.item(), \"val_loss\":val_losses[-1]})\n",
    "        with torch.no_grad():\n",
    "            val_losses_list = []\n",
    "            for y, X in val_data:\n",
    "                val_losses_list.append(get_loss(model, X, y, loss_func).item())\n",
    "            val_losses.append(np.mean(val_losses_list))\n",
    "            \n",
    "        scheduler.step()\n",
    "            \n",
    "    return np.vstack(train_losses).flatten(), np.vstack(val_losses[1:]).flatten()"
   ]
  },
  {
   "cell_type": "code",
   "execution_count": 95,
   "metadata": {},
   "outputs": [
    {
     "name": "stderr",
     "output_type": "stream",
     "text": [
      "Current batch Loss = 0.00, Current Val Loss = 0.00: 100%|██████████| 10/10 [15:37<00:00, 93.77s/it]\n"
     ]
    }
   ],
   "source": [
    "train_losses, val_losses = train(\n",
    "    model, \n",
    "    optimizer,\n",
    "    train_dataloader, \n",
    "    val_dataloader, \n",
    "    scheduler,\n",
    "    learning_params=learning_params\n",
    ")"
   ]
  },
  {
   "cell_type": "code",
   "execution_count": 101,
   "metadata": {},
   "outputs": [],
   "source": [
    "wandb.finish()"
   ]
  },
  {
   "cell_type": "code",
   "execution_count": 102,
   "metadata": {},
   "outputs": [],
   "source": [
    "xplane_models.save_checkpoint(model_params, model.cpu(), \"../data/models/\", model_title=\"taxinet-autoencoder\")"
   ]
  },
  {
   "cell_type": "code",
   "execution_count": 103,
   "metadata": {},
   "outputs": [
    {
     "name": "stdout",
     "output_type": "stream",
     "text": [
      "tensor(1.0372, grad_fn=<CopyBackwards>)\n",
      "tensor(0.4081, grad_fn=<CopyBackwards>)\n",
      "tensor(1.0113, grad_fn=<CopyBackwards>)\n",
      "tensor(0.5841, grad_fn=<CopyBackwards>)\n",
      "tensor(1.0106, grad_fn=<CopyBackwards>)\n",
      "tensor(1.1637, grad_fn=<CopyBackwards>)\n",
      "tensor(0.7857, grad_fn=<CopyBackwards>)\n",
      "tensor(0.6383, grad_fn=<CopyBackwards>)\n"
     ]
    },
    {
     "data": {
      "text/plain": [
       "<Figure size 640x480 with 0 Axes>"
      ]
     },
     "metadata": {},
     "output_type": "display_data"
    },
    {
     "data": {
      "image/png": "[encoded data removed]",
      "text/plain": [
       "<Figure size 640x480 with 2 Axes>"
      ]
     },
     "metadata": {},
     "output_type": "display_data"
    },
    {
     "data": {
      "text/plain": [
       "<Figure size 640x480 with 0 Axes>"
      ]
     },
     "metadata": {},
     "output_type": "display_data"
    },
    {
     "data": {
      "image/png": "[encoded data removed]",
      "text/plain": [
       "<Figure size 640x480 with 2 Axes>"
      ]
     },
     "metadata": {},
     "output_type": "display_data"
    },
    {
     "data": {
      "text/plain": [
       "<Figure size 640x480 with 0 Axes>"
      ]
     },
     "metadata": {},
     "output_type": "display_data"
    },
    {
     "data": {
      "image/png": "[encoded data removed]",
      "text/plain": [
       "<Figure size 640x480 with 2 Axes>"
      ]
     },
     "metadata": {},
     "output_type": "display_data"
    },
    {
     "data": {
      "text/plain": [
       "<Figure size 640x480 with 0 Axes>"
      ]
     },
     "metadata": {},
     "output_type": "display_data"
    },
    {
     "data": {
      "image/png": "[encoded data removed]",
      "text/plain": [
       "<Figure size 640x480 with 2 Axes>"
      ]
     },
     "metadata": {},
     "output_type": "display_data"
    },
    {
     "data": {
      "text/plain": [
       "<Figure size 640x480 with 0 Axes>"
      ]
     },
     "metadata": {},
     "output_type": "display_data"
    },
    {
     "data": {
      "image/png": "[encoded data removed]",
      "text/plain": [
       "<Figure size 640x480 with 2 Axes>"
      ]
     },
     "metadata": {},
     "output_type": "display_data"
    },
    {
     "data": {
      "text/plain": [
       "<Figure size 640x480 with 0 Axes>"
      ]
     },
     "metadata": {},
     "output_type": "display_data"
    },
    {
     "data": {
      "image/png": "[encoded data removed]",
      "text/plain": [
       "<Figure size 640x480 with 2 Axes>"
      ]
     },
     "metadata": {},
     "output_type": "display_data"
    },
    {
     "data": {
      "text/plain": [
       "<Figure size 640x480 with 0 Axes>"
      ]
     },
     "metadata": {},
     "output_type": "display_data"
    },
    {
     "data": {
      "image/png": "[encoded data removed]",
      "text/plain": [
       "<Figure size 640x480 with 2 Axes>"
      ]
     },
     "metadata": {},
     "output_type": "display_data"
    },
    {
     "data": {
      "text/plain": [
       "<Figure size 640x480 with 0 Axes>"
      ]
     },
     "metadata": {},
     "output_type": "display_data"
    },
    {
     "data": {
      "image/png": "[encoded data removed]",
      "text/plain": [
       "<Figure size 640x480 with 2 Axes>"
      ]
     },
     "metadata": {},
     "output_type": "display_data"
    }
   ],
   "source": [
    "model.cpu()\n",
    "for i in [0, 10,20,30, 100, 1000, 2000, 8000]:\n",
    "    plt.figure()\n",
    "    y, X = val_data[i]\n",
    "    fig, axs = plt.subplots(1,2)\n",
    "    axs[0].imshow(tform.ToPILImage()(X), cmap=\"gray\")\n",
    "    axs[1].imshow(tform.ToPILImage()(model(X)), cmap=\"gray\")\n",
    "    print(torch.norm(X - model(X)))"
   ]
  },
  {
   "cell_type": "code",
   "execution_count": 69,
   "metadata": {},
   "outputs": [
    {
     "data": {
      "text/plain": [
       "2"
      ]
     },
     "execution_count": 69,
     "metadata": {},
     "output_type": "execute_result"
    }
   ],
   "source": [
    "int(np.floor(4/2))"
   ]
  },
  {
   "cell_type": "code",
   "execution_count": 99,
   "metadata": {},
   "outputs": [],
   "source": [
    "n_samples = len(val_data)\n",
    "reconstruction_errors = []\n",
    "for i in range(n_samples):\n",
    "    y, X = val_data[i]\n",
    "    reconstruction_errors.append(torch.norm(X - model(X)).detach().numpy())"
   ]
  },
  {
   "cell_type": "code",
   "execution_count": 100,
   "metadata": {},
   "outputs": [
    {
     "data": {
      "text/plain": [
       "Text(0, 0.5, 'density')"
      ]
     },
     "execution_count": 100,
     "metadata": {},
     "output_type": "execute_result"
    },
    {
     "data": {
      "image/png": "[encoded data removed]",
      "text/plain": [
       "<Figure size 640x480 with 1 Axes>"
      ]
     },
     "metadata": {},
     "output_type": "display_data"
    }
   ],
   "source": [
    "plt.hist(reconstruction_errors, bins=100, density=True)\n",
    "plt.title(\"Validation Reconstruction Errors\")\n",
    "plt.xlabel(\"error\")\n",
    "plt.ylabel(\"density\")"
   ]
  },
  {
   "cell_type": "code",
   "execution_count": null,
   "metadata": {},
   "outputs": [],
   "source": []
  }
 ],
 "metadata": {
  "kernelspec": {
   "display_name": "xplane-env",
   "language": "python",
   "name": "python3"
  },
  "language_info": {
   "codemirror_mode": {
    "name": "ipython",
    "version": 3
   },
   "file_extension": ".py",
   "mimetype": "text/x-python",
   "name": "python",
   "nbconvert_exporter": "python",
   "pygments_lexer": "ipython3",
   "version": "3.10.6"
  },
  "orig_nbformat": 4,
  "vscode": {
   "interpreter": {
    "hash": "aecfbe8bebc72e58e927304bf76970d0d3cd036b3fb0dea9d6fb3391550f59df"
   }
  }
 },
 "nbformat": 4,
 "nbformat_minor": 2
}
